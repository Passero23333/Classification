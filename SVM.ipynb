{
 "cells": [
  {
   "attachments": {},
   "cell_type": "markdown",
   "metadata": {},
   "source": [
    "# 支持向量机基本思想\n",
    "给定训练样本集$D = {(x_1, y_1),(x_2, y_2),...,(x_n, y_n)}$，其中$y_i\\in(-1, +1)$，对训练样本集进行分类的基本思想就是在其对应的样本空间中找到一个超平面来划分这两个类别的数据点，从而达到分类的目的。但是这里有一个问题，有多个超平面可以划分数据点（如图所示），我们应该选择哪一个呢？\n",
    "![hyperplane](https://github.com/Passero23333/Classification/blob/pictures/hyperplane.png)\n",
    "通过对这些超平面进行对比就可以发现，该图中粗线对应的那个超平面是最好的，因为它对局部扰动的容忍性是最好的，而其他的超平面很容易因为噪声等原因出现划分错误。\n",
    "\n",
    "可以使用下述线性方程对划分超平面进行描述：\n",
    "$ w^Tx + b = 0 \\tag{1}$\n",
    "其中$w$为法向量，它决定了超平面的方向；$b$为位移，它决定了超平面和原点间的距离。样本空间中的数据点$x$到超平面$(w,b)$的距离为：\n",
    "$d = \\frac{\\left | w^Tx + b \\right |}{\\left \\| w \\right \\|}\\tag{2}$\n",
    "\n",
    "当该超平面能正确的将训练样本分类时，有：\n",
    "$\\left\\{\\begin{matrix}\n",
    "w^tx_i+b\\geq +1 & y_i = +1 & \\\\ \n",
    "w^tx_i+b\\leq +1 & y_i = -1 & \n",
    "\\end{matrix}\\right.\\tag{3}$\n",
    "距离超平面最近的数据点使得式(3)中的等式成立，它们被称为支持向量，两个不同类的支持向量到划分超平面的距离之和(即间隔)为：\n",
    "$\\nu = \\frac{2}{\\left \\| w \\right \\|}\\tag{4}$\n",
    "![margin](https://github.com/Passero23333/Classification/blob/pictures/margin.png)\n",
    "\n",
    "因此，支持向量机的基本思想就是找到具有最大间隔的划分超平面，它的公式化描述如下：\n",
    "$\\begin{matrix}\n",
    " \\max_{w,b} \\frac{2}{\\left \\| w \\right \\|}\\\\ \n",
    "s.t. y_i(w^Tx + b) \\geq 1\n",
    "\\end{matrix} \\tag{5}$ \n",
    "由于最大化$\\frac{2}{\\left \\| w \\right \\|}$等价于最小化$\\left \\| w \\right \\|^{2}$，因此式(5)可以改写为下述公式：\n",
    "$\\begin{matrix}\n",
    " \\min_{w,b} \\frac{\\left \\| w \\right \\|^{2}}{2}\\\\ \n",
    "s.t. y_i(w^Tx + b) \\geq 1\n",
    "\\end{matrix} \\tag{6}$ \n",
    "## 参考文献\n",
    "1. 周志华 《机器学习》\n",
    "2. 李航 《统计学习方法》"
   ]
  },
  {
   "cell_type": "code",
   "execution_count": null,
   "metadata": {},
   "outputs": [],
   "source": []
  }
 ],
 "metadata": {
  "kernelspec": {
   "display_name": "Python 3",
   "language": "python",
   "name": "python3"
  },
  "language_info": {
   "codemirror_mode": {
    "name": "ipython",
    "version": 3
   },
   "file_extension": ".py",
   "mimetype": "text/x-python",
   "name": "python",
   "nbconvert_exporter": "python",
   "pygments_lexer": "ipython3",
   "version": "3.6.8"
  }
 },
 "nbformat": 4,
 "nbformat_minor": 2
}
